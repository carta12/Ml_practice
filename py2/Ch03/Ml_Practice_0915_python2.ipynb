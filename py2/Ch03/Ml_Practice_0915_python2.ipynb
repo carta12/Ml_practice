{
 "cells": [
  {
   "cell_type": "markdown",
   "metadata": {},
   "source": [
    "# 의사결정 트리(Decision Trees)\n",
    "+ 의사결정 트리는 마치 스무고개 게임처럼 동작한다.\n",
    "\n",
    "\n",
    "+ Decision Tree Flowchart\n",
    "    + Decision block(의사결정 블록, 사각형)\n",
    "    + Terminal Block(단말블록, 타원형)\n",
    "    + Branches(의사결정이나 단말영역과 연결, 화살표)\n",
    "\n",
    "\n",
    "+ 장점\n",
    "    + 적은 계산비용\n",
    "    + 이해하기 쉬운 학습결과\n",
    "    + 누락된 값이 있어도 처리 가능\n",
    "    + 분류와 무관한 특징도 처리 가능\n",
    "\n",
    "\n",
    "+ 단점\n",
    "    + 과정합(overfitting)이 되기 쉬움 :  너무 복잡한 의사결정 트리\n",
    "\n",
    "\n",
    "+ 적용\n",
    "    + 수치형 값, 명목형 값"
   ]
  },
  {
   "cell_type": "markdown",
   "metadata": {},
   "source": [
    "## 3.1 Tree construction\n",
    "\n",
    "### ID3 알고리즘\n",
    "1. 데이터를 가장 잘 나눌 수 있는 특징을 먼저 찾아서 데이터 집합을 하위 집합으로 분할\n",
    "    + 정보이득(Information Gain)이 가장 큰 특징\n",
    "    + 엔트로피(Entropy)가 가장 크게 낮아지는 특징\n",
    "2. 해당 특징을 포함하는 노드 생성\n",
    "3. 하위집합의 모든 데이터가 같은 클래스에 속하면 해당 하위집합에 대한 분류 종료\n",
    "4. 2의 경우가 아니라면 이 하위집합에 대해 1을 적용\n",
    "5. 모든 데이터가 분류될 때까지(=모든 하위집합에 대해) 1~4 반복\n",
    "    + 재귀적 방법으로 해결"
   ]
  },
  {
   "cell_type": "markdown",
   "metadata": {},
   "source": [
    "##  트리구조 생성 의사코드\n",
    "### Genaral approach to Dicision Tree\n",
    "\n",
    "1. Collect:\n",
    "    + 모든 방법\n",
    "2. Prepare\n",
    "    + 명목형 값\n",
    "    + 연속형 값(수치형)은 양자화를 통해 이산형 값으로 변환\n",
    "3. Analyze:\n",
    "    + 모든방법\n",
    "    + 트리를 만든 후 시각적으로 트리를 검토\n",
    "4. Training\n",
    "    + 트리형태로 데이터를 구성\n",
    "5. Test\n",
    "    + 학습된 트리로 오류율(error rate) 계산\n",
    "6. Use\n",
    "    + 모든 지도학습에 사용 가능\n",
    "    + 대개 데이터를 더 잘 이해하기 위해 사용"
   ]
  },
  {
   "cell_type": "markdown",
   "metadata": {},
   "source": [
    "##  의사결정트리 알고리즘\n",
    "+ ID3\n",
    "+ C4.5\n",
    "+ C5.0\n",
    "+ CART\n",
    "+ CHAID\n",
    "+ MARS\n",
    "+ 조건부 추론 트리"
   ]
  },
  {
   "cell_type": "markdown",
   "metadata": {},
   "source": [
    "## 가장 적합한 분할 기준을 선택하는 방법\n",
    "+ 정보이득\n",
    "+ 지니불순도\n",
    "+ 분산 감소"
   ]
  },
  {
   "cell_type": "markdown",
   "metadata": {},
   "source": [
    "## 3.1.1 정보이득\n",
    "+ 데이터를 분할하기 이전과 이후의 정보량(엔트로피) 변화\n",
    "+ 정보이득이 가장 큰 특징에 대해 분할 수행\n",
    "+ 정보이득으로 정보의 불확실성(엔트로피) 감소"
   ]
  },
  {
   "cell_type": "markdown",
   "metadata": {},
   "source": [
    "### 개인 정보량과 엔트로피\n",
    "+ 개별 정보량\n",
    "    + 확률이 낮을수록 개별 정보량은 커진다 == 엔트로피가 커지는데 기여\n",
    "        + 로그의 결과에 -1을 곱하는 이유\n",
    "    + 밑이 2\n",
    "        + 정보를 전달(표현)하는데 몇 자리 2진수(몇 비트)면 충분한가\n",
    "+ 엔트로피\n",
    "    + 정보에 대한 기댓값\n",
    "    + 불확실한 정도, 무질서 정도\n",
    "    + 확류이 낮은 사건이 많을 수록 정보의 엔트로피(불확실성)이 커진다\n",
    "    + 정보의 불확실성(엔트로피)가 높다\n",
    "        + 어떤 값(정보)가 나올 지 알기 힘들다\n",
    "    + 엔트로피가 높은 원인\n",
    "        + 모든사건의 확률이 균등하다\n",
    "        + 확률이 낮은 사건이 많다\n",
    "            + 정보가 다양하다"
   ]
  },
  {
   "cell_type": "markdown",
   "metadata": {},
   "source": [
    "### 리스팅 3.1 데이터 집합의 섀넌 엔트로피를 계산하는 함수"
   ]
  },
  {
   "cell_type": "code",
   "execution_count": 1,
   "metadata": {
    "collapsed": true
   },
   "outputs": [],
   "source": [
    "import numpy as np"
   ]
  },
  {
   "cell_type": "code",
   "execution_count": 2,
   "metadata": {
    "collapsed": true
   },
   "outputs": [],
   "source": [
    "import trees"
   ]
  },
  {
   "cell_type": "code",
   "execution_count": 17,
   "metadata": {
    "collapsed": true
   },
   "outputs": [],
   "source": [
    "from IPython.core.interactiveshell import InteractiveShell\n",
    "InteractiveShell.ast_node_interactivity = 'all'"
   ]
  },
  {
   "cell_type": "code",
   "execution_count": 3,
   "metadata": {
    "collapsed": true
   },
   "outputs": [],
   "source": [
    "marinedata, labels = trees.createDataSet()"
   ]
  },
  {
   "cell_type": "code",
   "execution_count": 27,
   "metadata": {},
   "outputs": [
    {
     "data": {
      "text/plain": [
       "([[1, 1, 'yes'], [1, 1, 'yes'], [1, 0, 'no'], [0, 1, 'no'], [0, 1, 'no']],\n",
       " ['no surfacing', 'flippers'])"
      ]
     },
     "execution_count": 27,
     "metadata": {},
     "output_type": "execute_result"
    }
   ],
   "source": [
    "marinedata, labels"
   ]
  },
  {
   "cell_type": "code",
   "execution_count": 28,
   "metadata": {},
   "outputs": [
    {
     "data": {
      "text/plain": [
       "5"
      ]
     },
     "execution_count": 28,
     "metadata": {},
     "output_type": "execute_result"
    }
   ],
   "source": [
    "numentries = len(marinedata); numentries"
   ]
  },
  {
   "cell_type": "code",
   "execution_count": 50,
   "metadata": {},
   "outputs": [],
   "source": [
    "labelcounts = {}"
   ]
  },
  {
   "cell_type": "markdown",
   "metadata": {},
   "source": [
    "#### 입력 데이터 집합(해양생물데이터)을 순회하면서 타겟라벨의 도수를 구한다."
   ]
  },
  {
   "cell_type": "code",
   "execution_count": 51,
   "metadata": {},
   "outputs": [
    {
     "data": {
      "text/plain": [
       "[1, 1, 'yes']"
      ]
     },
     "execution_count": 51,
     "metadata": {},
     "output_type": "execute_result"
    },
    {
     "data": {
      "text/plain": [
       "'yes'"
      ]
     },
     "execution_count": 51,
     "metadata": {},
     "output_type": "execute_result"
    },
    {
     "data": {
      "text/plain": [
       "True"
      ]
     },
     "execution_count": 51,
     "metadata": {},
     "output_type": "execute_result"
    },
    {
     "data": {
      "text/plain": [
       "{'yes': 0}"
      ]
     },
     "execution_count": 51,
     "metadata": {},
     "output_type": "execute_result"
    },
    {
     "data": {
      "text/plain": [
       "{'yes': 1}"
      ]
     },
     "execution_count": 51,
     "metadata": {},
     "output_type": "execute_result"
    }
   ],
   "source": [
    "i = 0\n",
    "\n",
    "featvec = marinedata[i]; featvec\n",
    "\n",
    "current_targetlabel = featvec[-1]; current_targetlabel\n",
    "\n",
    "current_targetlabel not in labelcounts.keys()\n",
    "\n",
    "if current_targetlabel not in labelcounts.keys():\n",
    "    labelcounts[current_targetlabel] = 0\n",
    "labelcounts\n",
    "\n",
    "labelcounts[current_targetlabel] += 1\n",
    "labelcounts"
   ]
  },
  {
   "cell_type": "code",
   "execution_count": 52,
   "metadata": {},
   "outputs": [
    {
     "data": {
      "text/plain": [
       "[1, 1, 'yes']"
      ]
     },
     "execution_count": 52,
     "metadata": {},
     "output_type": "execute_result"
    },
    {
     "data": {
      "text/plain": [
       "'yes'"
      ]
     },
     "execution_count": 52,
     "metadata": {},
     "output_type": "execute_result"
    },
    {
     "data": {
      "text/plain": [
       "{'yes': 1}"
      ]
     },
     "execution_count": 52,
     "metadata": {},
     "output_type": "execute_result"
    },
    {
     "data": {
      "text/plain": [
       "{'yes': 2}"
      ]
     },
     "execution_count": 52,
     "metadata": {},
     "output_type": "execute_result"
    }
   ],
   "source": [
    "i = 1\n",
    "\n",
    "featvec = marinedata[i]; featvec\n",
    "\n",
    "current_targetlabel = featvec[-1]; current_targetlabel\n",
    "\n",
    "if current_targetlabel not in labelcounts.keys():\n",
    "    labelcounts[current_targetlabel] = 0\n",
    "labelcounts\n",
    "\n",
    "labelcounts[current_targetlabel] += 1\n",
    "labelcounts"
   ]
  },
  {
   "cell_type": "code",
   "execution_count": 53,
   "metadata": {},
   "outputs": [
    {
     "data": {
      "text/plain": [
       "[1, 0, 'no']"
      ]
     },
     "execution_count": 53,
     "metadata": {},
     "output_type": "execute_result"
    },
    {
     "data": {
      "text/plain": [
       "'no'"
      ]
     },
     "execution_count": 53,
     "metadata": {},
     "output_type": "execute_result"
    },
    {
     "data": {
      "text/plain": [
       "{'no': 0, 'yes': 2}"
      ]
     },
     "execution_count": 53,
     "metadata": {},
     "output_type": "execute_result"
    },
    {
     "data": {
      "text/plain": [
       "{'no': 1, 'yes': 2}"
      ]
     },
     "execution_count": 53,
     "metadata": {},
     "output_type": "execute_result"
    }
   ],
   "source": [
    "i = 2\n",
    "\n",
    "featvec = marinedata[i]; featvec\n",
    "\n",
    "current_targetlabel = featvec[-1]; current_targetlabel\n",
    "\n",
    "if current_targetlabel not in labelcounts.keys():\n",
    "    labelcounts[current_targetlabel] = 0\n",
    "labelcounts\n",
    "\n",
    "labelcounts[current_targetlabel] += 1\n",
    "labelcounts"
   ]
  },
  {
   "cell_type": "code",
   "execution_count": 54,
   "metadata": {},
   "outputs": [
    {
     "data": {
      "text/plain": [
       "[0, 1, 'no']"
      ]
     },
     "execution_count": 54,
     "metadata": {},
     "output_type": "execute_result"
    },
    {
     "data": {
      "text/plain": [
       "'no'"
      ]
     },
     "execution_count": 54,
     "metadata": {},
     "output_type": "execute_result"
    },
    {
     "data": {
      "text/plain": [
       "{'no': 1, 'yes': 2}"
      ]
     },
     "execution_count": 54,
     "metadata": {},
     "output_type": "execute_result"
    },
    {
     "data": {
      "text/plain": [
       "{'no': 2, 'yes': 2}"
      ]
     },
     "execution_count": 54,
     "metadata": {},
     "output_type": "execute_result"
    }
   ],
   "source": [
    "i = 3\n",
    "\n",
    "featvec = marinedata[i]; featvec\n",
    "\n",
    "current_targetlabel = featvec[-1]; current_targetlabel\n",
    "\n",
    "if current_targetlabel not in labelcounts.keys():\n",
    "    labelcounts[current_targetlabel] = 0\n",
    "labelcounts\n",
    "\n",
    "labelcounts[current_targetlabel] += 1\n",
    "labelcounts"
   ]
  },
  {
   "cell_type": "markdown",
   "metadata": {},
   "source": [
    "####  if 문과 카운트하는 문자을 하나로 표현가능\n",
    "+ 사전의 get() 함수 활용"
   ]
  },
  {
   "cell_type": "markdown",
   "metadata": {},
   "source": [
    "labelcounts[current_targetlabel] = labelcounts.get(current_targetlabel, 0) + 1"
   ]
  },
  {
   "cell_type": "code",
   "execution_count": 55,
   "metadata": {},
   "outputs": [
    {
     "data": {
      "text/plain": [
       "[0, 1, 'no']"
      ]
     },
     "execution_count": 55,
     "metadata": {},
     "output_type": "execute_result"
    },
    {
     "data": {
      "text/plain": [
       "'no'"
      ]
     },
     "execution_count": 55,
     "metadata": {},
     "output_type": "execute_result"
    },
    {
     "data": {
      "text/plain": [
       "{'no': 3, 'yes': 2}"
      ]
     },
     "execution_count": 55,
     "metadata": {},
     "output_type": "execute_result"
    }
   ],
   "source": [
    "i = 4\n",
    "\n",
    "featvec = marinedata[i]; featvec\n",
    "\n",
    "current_targetlabel = featvec[-1]; current_targetlabel\n",
    "labelcounts[current_targetlabel] = labelcounts.get(current_targetlabel, 0) + 1\n",
    "labelcounts"
   ]
  },
  {
   "cell_type": "markdown",
   "metadata": {},
   "source": [
    "#### 섀넌 엔트로피 구하기"
   ]
  },
  {
   "cell_type": "code",
   "execution_count": 61,
   "metadata": {
    "collapsed": true
   },
   "outputs": [],
   "source": [
    "import math"
   ]
  },
  {
   "cell_type": "code",
   "execution_count": 71,
   "metadata": {},
   "outputs": [
    {
     "data": {
      "text/plain": [
       "'yes'"
      ]
     },
     "execution_count": 71,
     "metadata": {},
     "output_type": "execute_result"
    },
    {
     "data": {
      "text/plain": [
       "2"
      ]
     },
     "execution_count": 71,
     "metadata": {},
     "output_type": "execute_result"
    },
    {
     "data": {
      "text/plain": [
       "0.4"
      ]
     },
     "execution_count": 71,
     "metadata": {},
     "output_type": "execute_result"
    },
    {
     "data": {
      "text/plain": [
       "-1.3219280948873622"
      ]
     },
     "execution_count": 71,
     "metadata": {},
     "output_type": "execute_result"
    },
    {
     "data": {
      "text/plain": [
       "0.5287712379549449"
      ]
     },
     "execution_count": 71,
     "metadata": {},
     "output_type": "execute_result"
    }
   ],
   "source": [
    "shannonent = 0.0\n",
    "i = 0\n",
    "\n",
    "key = labelcounts.keys()[i]; key             \n",
    "\n",
    "labelcounts[key]\n",
    "\n",
    "prob = float(labelcounts[key]) / numentries; prob\n",
    "\n",
    "math.log(prob, 2)\n",
    "\n",
    "shannonent -= prob * math.log(prob, 2); shannonent"
   ]
  },
  {
   "cell_type": "code",
   "execution_count": 72,
   "metadata": {},
   "outputs": [
    {
     "data": {
      "text/plain": [
       "'no'"
      ]
     },
     "execution_count": 72,
     "metadata": {},
     "output_type": "execute_result"
    },
    {
     "data": {
      "text/plain": [
       "3"
      ]
     },
     "execution_count": 72,
     "metadata": {},
     "output_type": "execute_result"
    },
    {
     "data": {
      "text/plain": [
       "0.6"
      ]
     },
     "execution_count": 72,
     "metadata": {},
     "output_type": "execute_result"
    },
    {
     "data": {
      "text/plain": [
       "0.9709505944546686"
      ]
     },
     "execution_count": 72,
     "metadata": {},
     "output_type": "execute_result"
    }
   ],
   "source": [
    "\n",
    "i = 1\n",
    "\n",
    "key = labelcounts.keys()[i]; key             \n",
    "\n",
    "labelcounts[key]\n",
    "\n",
    "prob = float(labelcounts[key]) / numentries; prob\n",
    "\n",
    "shannonent -= prob * math.log(prob,2); shannonent"
   ]
  },
  {
   "cell_type": "code",
   "execution_count": 74,
   "metadata": {},
   "outputs": [
    {
     "data": {
      "text/plain": [
       "[[1, 1, 'maybe'], [1, 1, 'yes'], [1, 0, 'no'], [0, 1, 'no'], [0, 1, 'no']]"
      ]
     },
     "execution_count": 74,
     "metadata": {},
     "output_type": "execute_result"
    }
   ],
   "source": [
    "marinedata[0][-1] = 'maybe'; marinedata"
   ]
  },
  {
   "cell_type": "code",
   "execution_count": 75,
   "metadata": {},
   "outputs": [
    {
     "data": {
      "text/plain": [
       "1.3709505944546687"
      ]
     },
     "execution_count": 75,
     "metadata": {},
     "output_type": "execute_result"
    }
   ],
   "source": [
    "trees.calcShannonEnt(marinedata)"
   ]
  },
  {
   "cell_type": "markdown",
   "metadata": {},
   "source": [
    "## 3.1.2 데이터 집합 분할하기"
   ]
  },
  {
   "cell_type": "code",
   "execution_count": 109,
   "metadata": {
    "collapsed": true
   },
   "outputs": [],
   "source": [
    "retdataset = []"
   ]
  },
  {
   "cell_type": "code",
   "execution_count": 110,
   "metadata": {},
   "outputs": [
    {
     "data": {
      "text/plain": [
       "[[1, 1, 'yes'], [1, 1, 'yes'], [1, 0, 'no'], [0, 1, 'no'], [0, 1, 'no']]"
      ]
     },
     "execution_count": 110,
     "metadata": {},
     "output_type": "execute_result"
    },
    {
     "data": {
      "text/plain": [
       "['no surfacing', 'flippers']"
      ]
     },
     "execution_count": 110,
     "metadata": {},
     "output_type": "execute_result"
    }
   ],
   "source": [
    "marinedata, labels = trees.createDataSet()\n",
    "marinedata\n",
    "labels"
   ]
  },
  {
   "cell_type": "code",
   "execution_count": 111,
   "metadata": {
    "collapsed": true
   },
   "outputs": [],
   "source": [
    "# 첫 번째 피처 : axis = 0\n",
    "# 첫 번째 피처의 값이 1 : value=1\n",
    "\n",
    "axis = 0\n",
    "value = 1"
   ]
  },
  {
   "cell_type": "code",
   "execution_count": 112,
   "metadata": {},
   "outputs": [
    {
     "data": {
      "text/plain": [
       "[1, 1, 'yes']"
      ]
     },
     "execution_count": 112,
     "metadata": {},
     "output_type": "execute_result"
    },
    {
     "data": {
      "text/plain": [
       "True"
      ]
     },
     "execution_count": 112,
     "metadata": {},
     "output_type": "execute_result"
    },
    {
     "data": {
      "text/plain": [
       "[]"
      ]
     },
     "execution_count": 112,
     "metadata": {},
     "output_type": "execute_result"
    },
    {
     "data": {
      "text/plain": [
       "[1, 'yes']"
      ]
     },
     "execution_count": 112,
     "metadata": {},
     "output_type": "execute_result"
    },
    {
     "data": {
      "text/plain": [
       "[1, 'yes']"
      ]
     },
     "execution_count": 112,
     "metadata": {},
     "output_type": "execute_result"
    },
    {
     "data": {
      "text/plain": [
       "[[1, 'yes']]"
      ]
     },
     "execution_count": 112,
     "metadata": {},
     "output_type": "execute_result"
    }
   ],
   "source": [
    "i = 0\n",
    "\n",
    "featvec = marinedata[i]; featvec\n",
    "featvec[axis] == value\n",
    "\n",
    "# 위 조건식이 참이므로\n",
    "if featvec[axis] ==value:\n",
    "    reducedfeatvec = featvec[:axis]; reducedfeatvec\n",
    "\n",
    "    featvec[axis+1:]\n",
    "\n",
    "    reducedfeatvec.extend(featvec[axis+1:])\n",
    "    reducedfeatvec\n",
    "\n",
    "    retdataset.append(reducedfeatvec)\n",
    "retdataset"
   ]
  },
  {
   "cell_type": "code",
   "execution_count": 113,
   "metadata": {},
   "outputs": [
    {
     "data": {
      "text/plain": [
       "[1, 1, 'yes']"
      ]
     },
     "execution_count": 113,
     "metadata": {},
     "output_type": "execute_result"
    },
    {
     "data": {
      "text/plain": [
       "True"
      ]
     },
     "execution_count": 113,
     "metadata": {},
     "output_type": "execute_result"
    },
    {
     "data": {
      "text/plain": [
       "[]"
      ]
     },
     "execution_count": 113,
     "metadata": {},
     "output_type": "execute_result"
    },
    {
     "data": {
      "text/plain": [
       "[1, 'yes']"
      ]
     },
     "execution_count": 113,
     "metadata": {},
     "output_type": "execute_result"
    },
    {
     "data": {
      "text/plain": [
       "[1, 'yes']"
      ]
     },
     "execution_count": 113,
     "metadata": {},
     "output_type": "execute_result"
    },
    {
     "data": {
      "text/plain": [
       "[[1, 'yes'], [1, 'yes']]"
      ]
     },
     "execution_count": 113,
     "metadata": {},
     "output_type": "execute_result"
    }
   ],
   "source": [
    "i = 1\n",
    "\n",
    "featvec = marinedata[i]; featvec\n",
    "featvec[axis] == value\n",
    "\n",
    "# 위 조건식이 참이므로\n",
    "if featvec[axis] ==value:\n",
    "    reducedfeatvec = featvec[:axis]; reducedfeatvec\n",
    "\n",
    "    featvec[axis+1:]\n",
    "\n",
    "    reducedfeatvec.extend(featvec[axis+1:])\n",
    "    reducedfeatvec\n",
    "\n",
    "    retdataset.append(reducedfeatvec)\n",
    "retdataset"
   ]
  },
  {
   "cell_type": "code",
   "execution_count": 114,
   "metadata": {},
   "outputs": [
    {
     "data": {
      "text/plain": [
       "[1, 0, 'no']"
      ]
     },
     "execution_count": 114,
     "metadata": {},
     "output_type": "execute_result"
    },
    {
     "data": {
      "text/plain": [
       "True"
      ]
     },
     "execution_count": 114,
     "metadata": {},
     "output_type": "execute_result"
    },
    {
     "data": {
      "text/plain": [
       "[]"
      ]
     },
     "execution_count": 114,
     "metadata": {},
     "output_type": "execute_result"
    },
    {
     "data": {
      "text/plain": [
       "[0, 'no']"
      ]
     },
     "execution_count": 114,
     "metadata": {},
     "output_type": "execute_result"
    },
    {
     "data": {
      "text/plain": [
       "[0, 'no']"
      ]
     },
     "execution_count": 114,
     "metadata": {},
     "output_type": "execute_result"
    },
    {
     "data": {
      "text/plain": [
       "[[1, 'yes'], [1, 'yes'], [0, 'no']]"
      ]
     },
     "execution_count": 114,
     "metadata": {},
     "output_type": "execute_result"
    }
   ],
   "source": [
    "i = 2\n",
    "\n",
    "featvec = marinedata[i]; featvec\n",
    "featvec[axis] == value\n",
    "\n",
    "# 위 조건식이 참이므로\n",
    "if featvec[axis] ==value:\n",
    "    reducedfeatvec = featvec[:axis]; reducedfeatvec\n",
    "\n",
    "    featvec[axis+1:]\n",
    "\n",
    "    reducedfeatvec.extend(featvec[axis+1:])\n",
    "    reducedfeatvec\n",
    "\n",
    "    retdataset.append(reducedfeatvec)\n",
    "retdataset"
   ]
  },
  {
   "cell_type": "code",
   "execution_count": 115,
   "metadata": {},
   "outputs": [
    {
     "data": {
      "text/plain": [
       "[0, 1, 'no']"
      ]
     },
     "execution_count": 115,
     "metadata": {},
     "output_type": "execute_result"
    },
    {
     "data": {
      "text/plain": [
       "False"
      ]
     },
     "execution_count": 115,
     "metadata": {},
     "output_type": "execute_result"
    },
    {
     "data": {
      "text/plain": [
       "[[1, 'yes'], [1, 'yes'], [0, 'no']]"
      ]
     },
     "execution_count": 115,
     "metadata": {},
     "output_type": "execute_result"
    }
   ],
   "source": [
    "i = 3\n",
    "\n",
    "featvec = marinedata[i]; featvec\n",
    "featvec[axis] == value\n",
    "\n",
    "# 위 조건식이 참이므로\n",
    "if featvec[axis] ==value:\n",
    "    reducedfeatvec = featvec[:axis]; reducedfeatvec\n",
    "\n",
    "    featvec[axis+1:]\n",
    "\n",
    "    reducedfeatvec.extend(featvec[axis+1:])\n",
    "    reducedfeatvec\n",
    "\n",
    "    retdataset.append(reducedfeatvec)\n",
    "retdataset"
   ]
  },
  {
   "cell_type": "code",
   "execution_count": 117,
   "metadata": {},
   "outputs": [
    {
     "data": {
      "text/plain": [
       "[0, 1, 'no']"
      ]
     },
     "execution_count": 117,
     "metadata": {},
     "output_type": "execute_result"
    },
    {
     "data": {
      "text/plain": [
       "False"
      ]
     },
     "execution_count": 117,
     "metadata": {},
     "output_type": "execute_result"
    },
    {
     "data": {
      "text/plain": [
       "[[1, 'yes'], [1, 'yes'], [0, 'no']]"
      ]
     },
     "execution_count": 117,
     "metadata": {},
     "output_type": "execute_result"
    }
   ],
   "source": [
    "i = 4\n",
    "\n",
    "featvec = marinedata[i]; featvec\n",
    "featvec[axis] == value\n",
    "\n",
    "# 위 조건식이 참이므로\n",
    "if featvec[axis] ==value:\n",
    "    reducedfeatvec = featvec[:axis]; reducedfeatvec\n",
    "\n",
    "    featvec[axis+1:]\n",
    "\n",
    "    reducedfeatvec.extend(featvec[axis+1:])\n",
    "    reducedfeatvec\n",
    "\n",
    "    retdataset.append(reducedfeatvec)\n",
    "retdataset"
   ]
  },
  {
   "cell_type": "code",
   "execution_count": 118,
   "metadata": {},
   "outputs": [
    {
     "data": {
      "text/plain": [
       "[[1, 'no'], [1, 'no']]"
      ]
     },
     "execution_count": 118,
     "metadata": {},
     "output_type": "execute_result"
    }
   ],
   "source": [
    "# 첫 번째 피처 값이 0인 데이터 집합을 구하기\n",
    "trees.splitDataSet(marinedata, 0, 0)"
   ]
  },
  {
   "cell_type": "code",
   "execution_count": 119,
   "metadata": {
    "collapsed": true
   },
   "outputs": [],
   "source": [
    "# 두 번째 피처 값이 1인 데이터 집합을 구하기\n",
    "axis = 1\n",
    "value = 1\n",
    "retdataset = []"
   ]
  },
  {
   "cell_type": "code",
   "execution_count": 120,
   "metadata": {},
   "outputs": [
    {
     "data": {
      "text/plain": [
       "[1, 1, 'yes']"
      ]
     },
     "execution_count": 120,
     "metadata": {},
     "output_type": "execute_result"
    },
    {
     "data": {
      "text/plain": [
       "True"
      ]
     },
     "execution_count": 120,
     "metadata": {},
     "output_type": "execute_result"
    },
    {
     "data": {
      "text/plain": [
       "[1]"
      ]
     },
     "execution_count": 120,
     "metadata": {},
     "output_type": "execute_result"
    },
    {
     "data": {
      "text/plain": [
       "['yes']"
      ]
     },
     "execution_count": 120,
     "metadata": {},
     "output_type": "execute_result"
    },
    {
     "data": {
      "text/plain": [
       "[1, 'yes']"
      ]
     },
     "execution_count": 120,
     "metadata": {},
     "output_type": "execute_result"
    },
    {
     "data": {
      "text/plain": [
       "[[1, 'yes']]"
      ]
     },
     "execution_count": 120,
     "metadata": {},
     "output_type": "execute_result"
    }
   ],
   "source": [
    "i = 0\n",
    "\n",
    "featvec = marinedata[i]; featvec\n",
    "featvec[axis] == value\n",
    "\n",
    "# 위 조건식이 참이므로\n",
    "if featvec[axis] ==value:\n",
    "    reducedfeatvec = featvec[:axis]; reducedfeatvec\n",
    "\n",
    "    featvec[axis+1:]\n",
    "\n",
    "    reducedfeatvec.extend(featvec[axis+1:])\n",
    "    reducedfeatvec\n",
    "\n",
    "    retdataset.append(reducedfeatvec)\n",
    "retdataset"
   ]
  },
  {
   "cell_type": "code",
   "execution_count": 121,
   "metadata": {},
   "outputs": [
    {
     "data": {
      "text/plain": [
       "[1, 1, 'yes']"
      ]
     },
     "execution_count": 121,
     "metadata": {},
     "output_type": "execute_result"
    },
    {
     "data": {
      "text/plain": [
       "True"
      ]
     },
     "execution_count": 121,
     "metadata": {},
     "output_type": "execute_result"
    },
    {
     "data": {
      "text/plain": [
       "[1, 'yes']"
      ]
     },
     "execution_count": 121,
     "metadata": {},
     "output_type": "execute_result"
    },
    {
     "data": {
      "text/plain": [
       "[[1, 'yes'], [1, 'yes']]"
      ]
     },
     "execution_count": 121,
     "metadata": {},
     "output_type": "execute_result"
    }
   ],
   "source": [
    "i = 1\n",
    "\n",
    "featvec = marinedata[i]; featvec\n",
    "featvec[axis] == value\n",
    "\n",
    "# 위 조건식이 참이므로\n",
    "if featvec[axis] ==value:\n",
    "    del featvec[axis]; reducedfeatvec\n",
    "    retdataset.append(featvec)\n",
    "retdataset"
   ]
  },
  {
   "cell_type": "code",
   "execution_count": 123,
   "metadata": {},
   "outputs": [
    {
     "data": {
      "text/plain": [
       "[[1, 'yes'], [1, 'yes'], [0, 'no']]"
      ]
     },
     "execution_count": 123,
     "metadata": {},
     "output_type": "execute_result"
    }
   ],
   "source": [
    "# 첫 번째 피처 값(라벨)이 1인 데이터 집합의 엔트로피 구하기\n",
    "marinedata, labels = trees.createDataSet()\n",
    "feat01 = trees.splitDataSet(marinedata, 0, 1); feat01"
   ]
  },
  {
   "cell_type": "code",
   "execution_count": 124,
   "metadata": {},
   "outputs": [
    {
     "data": {
      "text/plain": [
       "0.9182958340544896"
      ]
     },
     "execution_count": 124,
     "metadata": {},
     "output_type": "execute_result"
    }
   ],
   "source": [
    "trees.calcShannonEnt(feat01)"
   ]
  },
  {
   "cell_type": "code",
   "execution_count": 127,
   "metadata": {},
   "outputs": [
    {
     "data": {
      "text/plain": [
       "[[1, 'no'], [1, 'no']]"
      ]
     },
     "execution_count": 127,
     "metadata": {},
     "output_type": "execute_result"
    },
    {
     "data": {
      "text/plain": [
       "0.0"
      ]
     },
     "execution_count": 127,
     "metadata": {},
     "output_type": "execute_result"
    }
   ],
   "source": [
    "# 첫 번째 피처 값(라벨)이 0인 데이터 집합의 엔트로피 구하기\n",
    "feat00 = trees.splitDataSet(marinedata, 0, 0); feat00\n",
    "trees.calcShannonEnt(feat00)"
   ]
  },
  {
   "cell_type": "code",
   "execution_count": 128,
   "metadata": {},
   "outputs": [
    {
     "data": {
      "text/plain": [
       "[[1, 'no']]"
      ]
     },
     "execution_count": 128,
     "metadata": {},
     "output_type": "execute_result"
    },
    {
     "data": {
      "text/plain": [
       "0.0"
      ]
     },
     "execution_count": 128,
     "metadata": {},
     "output_type": "execute_result"
    }
   ],
   "source": [
    "# 두 번째 피처 값(라벨)이 0인 데이터 집합의 엔트로피 구하기\n",
    "feat10 = trees.splitDataSet(marinedata, 1, 0); feat10\n",
    "trees.calcShannonEnt(feat10)"
   ]
  },
  {
   "cell_type": "code",
   "execution_count": 129,
   "metadata": {},
   "outputs": [
    {
     "data": {
      "text/plain": [
       "[[1, 'yes'], [1, 'yes'], [0, 'no'], [0, 'no']]"
      ]
     },
     "execution_count": 129,
     "metadata": {},
     "output_type": "execute_result"
    },
    {
     "data": {
      "text/plain": [
       "1.0"
      ]
     },
     "execution_count": 129,
     "metadata": {},
     "output_type": "execute_result"
    }
   ],
   "source": [
    "# 첫 번째 피처 값(라벨)이 1인 데이터 집합의 엔트로피 구하기\n",
    "feat11 = trees.splitDataSet(marinedata, 1, 1); feat11\n",
    "trees.calcShannonEnt(feat11)"
   ]
  },
  {
   "cell_type": "code",
   "execution_count": null,
   "metadata": {
    "collapsed": true
   },
   "outputs": [],
   "source": []
  }
 ],
 "metadata": {
  "kernelspec": {
   "display_name": "Python 2",
   "language": "python",
   "name": "python2"
  },
  "language_info": {
   "codemirror_mode": {
    "name": "ipython",
    "version": 2
   },
   "file_extension": ".py",
   "mimetype": "text/x-python",
   "name": "python",
   "nbconvert_exporter": "python",
   "pygments_lexer": "ipython2",
   "version": "2.7.13"
  }
 },
 "nbformat": 4,
 "nbformat_minor": 2
}
